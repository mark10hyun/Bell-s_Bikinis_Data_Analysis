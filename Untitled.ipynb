{
 "cells": [
  {
   "cell_type": "code",
   "execution_count": 1,
   "metadata": {},
   "outputs": [],
   "source": [
    "import pandas as pd\n",
    "import numpy as np"
   ]
  },
  {
   "cell_type": "code",
   "execution_count": 2,
   "metadata": {},
   "outputs": [
    {
     "name": "stdout",
     "output_type": "stream",
     "text": [
      "/Users/markhyun/Desktop/Resume/Shopify_Data_Analysis\r\n"
     ]
    }
   ],
   "source": [
    "!pwd"
   ]
  },
  {
   "cell_type": "code",
   "execution_count": 5,
   "metadata": {},
   "outputs": [],
   "source": [
    "sales = pd.read_csv(\"/Users/markhyun/Desktop/Resume/Shopify_Data_Analysis/data/orders_export_1-12.csv\")"
   ]
  },
  {
   "cell_type": "code",
   "execution_count": 6,
   "metadata": {},
   "outputs": [
    {
     "name": "stdout",
     "output_type": "stream",
     "text": [
      "<class 'pandas.core.frame.DataFrame'>\n",
      "RangeIndex: 7252 entries, 0 to 7251\n",
      "Data columns (total 68 columns):\n",
      " #   Column                       Non-Null Count  Dtype  \n",
      "---  ------                       --------------  -----  \n",
      " 0   Name                         7252 non-null   object \n",
      " 1   Email                        4566 non-null   object \n",
      " 2   Financial Status             5220 non-null   object \n",
      " 3   Paid at                      5200 non-null   object \n",
      " 4   Fulfillment Status           5220 non-null   object \n",
      " 5   Fulfilled at                 5106 non-null   object \n",
      " 6   Accepts Marketing            5220 non-null   object \n",
      " 7   Currency                     5220 non-null   object \n",
      " 8   Subtotal                     5220 non-null   float64\n",
      " 9   Shipping                     5220 non-null   float64\n",
      " 10  Taxes                        5220 non-null   float64\n",
      " 11  Total                        5220 non-null   float64\n",
      " 12  Discount Code                644 non-null    object \n",
      " 13  Discount Amount              5220 non-null   float64\n",
      " 14  Shipping Method              5220 non-null   object \n",
      " 15  Created at                   7252 non-null   object \n",
      " 16  Lineitem quantity            7252 non-null   int64  \n",
      " 17  Lineitem name                7252 non-null   object \n",
      " 18  Lineitem price               7252 non-null   float64\n",
      " 19  Lineitem compare at price    7252 non-null   float64\n",
      " 20  Lineitem sku                 0 non-null      float64\n",
      " 21  Lineitem requires shipping   7252 non-null   bool   \n",
      " 22  Lineitem taxable             7252 non-null   bool   \n",
      " 23  Lineitem fulfillment status  7252 non-null   object \n",
      " 24  Billing Name                 5220 non-null   object \n",
      " 25  Billing Street               5220 non-null   object \n",
      " 26  Billing Address1             5220 non-null   object \n",
      " 27  Billing Address2             676 non-null    object \n",
      " 28  Billing Company              0 non-null      float64\n",
      " 29  Billing City                 5220 non-null   object \n",
      " 30  Billing Zip                  5214 non-null   object \n",
      " 31  Billing Province             5063 non-null   object \n",
      " 32  Billing Country              5220 non-null   object \n",
      " 33  Billing Phone                0 non-null      float64\n",
      " 34  Shipping Name                5220 non-null   object \n",
      " 35  Shipping Street              5220 non-null   object \n",
      " 36  Shipping Address1            5220 non-null   object \n",
      " 37  Shipping Address2            743 non-null    object \n",
      " 38  Shipping Company             0 non-null      float64\n",
      " 39  Shipping City                5220 non-null   object \n",
      " 40  Shipping Zip                 5214 non-null   object \n",
      " 41  Shipping Province            5065 non-null   object \n",
      " 42  Shipping Country             5220 non-null   object \n",
      " 43  Shipping Phone               0 non-null      float64\n",
      " 44  Notes                        10 non-null     object \n",
      " 45  Note Attributes              562 non-null    object \n",
      " 46  Cancelled at                 0 non-null      float64\n",
      " 47  Payment Method               5220 non-null   object \n",
      " 48  Payment Reference            5220 non-null   object \n",
      " 49  Refunded Amount              5220 non-null   float64\n",
      " 50  Vendor                       7252 non-null   object \n",
      " 51  Id                           5220 non-null   float64\n",
      " 52  Tags                         0 non-null      float64\n",
      " 53  Risk Level                   5220 non-null   object \n",
      " 54  Source                       5220 non-null   object \n",
      " 55  Lineitem discount            7252 non-null   float64\n",
      " 56  Tax 1 Name                   0 non-null      float64\n",
      " 57  Tax 1 Value                  0 non-null      float64\n",
      " 58  Tax 2 Name                   0 non-null      float64\n",
      " 59  Tax 2 Value                  0 non-null      float64\n",
      " 60  Tax 3 Name                   0 non-null      float64\n",
      " 61  Tax 3 Value                  0 non-null      float64\n",
      " 62  Tax 4 Name                   0 non-null      float64\n",
      " 63  Tax 4 Value                  0 non-null      float64\n",
      " 64  Tax 5 Name                   0 non-null      float64\n",
      " 65  Tax 5 Value                  0 non-null      float64\n",
      " 66  Phone                        2690 non-null   float64\n",
      " 67  Receipt Number               0 non-null      float64\n",
      "dtypes: bool(2), float64(29), int64(1), object(36)\n",
      "memory usage: 3.7+ MB\n"
     ]
    }
   ],
   "source": [
    "sales.info()"
   ]
  },
  {
   "cell_type": "code",
   "execution_count": 20,
   "metadata": {},
   "outputs": [
    {
     "name": "stdout",
     "output_type": "stream",
     "text": [
      "<class 'pandas.core.frame.DataFrame'>\n",
      "RangeIndex: 7252 entries, 0 to 7251\n",
      "Data columns (total 19 columns):\n",
      " #   Column                     Non-Null Count  Dtype  \n",
      "---  ------                     --------------  -----  \n",
      " 0   Name                       7252 non-null   object \n",
      " 1   Email                      4566 non-null   object \n",
      " 2   Financial Status           5220 non-null   object \n",
      " 3   Paid at                    5200 non-null   object \n",
      " 4   Fulfilled at               5106 non-null   object \n",
      " 5   Accepts Marketing          5220 non-null   object \n",
      " 6   Currency                   5220 non-null   object \n",
      " 7   Subtotal                   5220 non-null   float64\n",
      " 8   Shipping                   5220 non-null   float64\n",
      " 9   Taxes                      5220 non-null   float64\n",
      " 10  Total                      5220 non-null   float64\n",
      " 11  Discount Code              644 non-null    object \n",
      " 12  Discount Amount            5220 non-null   float64\n",
      " 13  Shipping Method            5220 non-null   object \n",
      " 14  Created at                 7252 non-null   object \n",
      " 15  Lineitem quantity          7252 non-null   int64  \n",
      " 16  Lineitem name              7252 non-null   object \n",
      " 17  Lineitem price             7252 non-null   float64\n",
      " 18  Lineitem compare at price  7252 non-null   float64\n",
      "dtypes: float64(7), int64(1), object(11)\n",
      "memory usage: 1.1+ MB\n"
     ]
    }
   ],
   "source": [
    "#dropping insignificant attributes\n",
    "sales.drop(sales.iloc[:, 55:67], inplace=True, axis=1)\n",
    "sales.drop(sales.iloc[:, 24:33], inplace=True, axis=1)\n",
    "sales.drop(sales.iloc[:, 43:46], inplace=True, axis=1)\n",
    "sales.drop(sales.iloc[:, 20:23], inplace=True, axis=1)\n",
    "sales.drop(sales.iloc[:, 4:5], inplace=True, axis=1)\n",
    "\n",
    "sales.drop([52,53,38,0])\n",
    "sales.info()"
   ]
  },
  {
   "cell_type": "code",
   "execution_count": null,
   "metadata": {},
   "outputs": [],
   "source": []
  }
 ],
 "metadata": {
  "kernelspec": {
   "display_name": "Python 3",
   "language": "python",
   "name": "python3"
  },
  "language_info": {
   "codemirror_mode": {
    "name": "ipython",
    "version": 3
   },
   "file_extension": ".py",
   "mimetype": "text/x-python",
   "name": "python",
   "nbconvert_exporter": "python",
   "pygments_lexer": "ipython3",
   "version": "3.7.6"
  }
 },
 "nbformat": 4,
 "nbformat_minor": 4
}
